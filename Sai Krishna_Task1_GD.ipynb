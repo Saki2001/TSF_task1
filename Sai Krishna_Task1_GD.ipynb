{
 "cells": [
  {
   "cell_type": "markdown",
   "metadata": {},
   "source": [
    "# Task - 1 (Simple Linear Regression)\n",
    "**Done by SaiKrishna (Data Science and Business Analytics)**"
   ]
  },
  {
   "cell_type": "markdown",
   "metadata": {},
   "source": [
    "**Importing the required Libraries**"
   ]
  },
  {
   "cell_type": "code",
   "execution_count": null,
   "metadata": {},
   "outputs": [],
   "source": [
    "import numpy as np\n",
    "import matplotlib.pyplot as plt\n",
    "import pandas as pd"
   ]
  },
  {
   "cell_type": "markdown",
   "metadata": {},
   "source": [
    "**Reading and visualising the data**"
   ]
  },
  {
   "cell_type": "code",
   "execution_count": null,
   "metadata": {},
   "outputs": [],
   "source": [
    "data = pd.read_csv(\"https://raw.githubusercontent.com/AdiPersonalWorks/Random/master/student_scores%20-%20student_scores.csv\")\n",
    "print(data.shape)\n",
    "print(data.head())\n",
    "X = data['Hours'].values\n",
    "Y = data['Scores'].values\n",
    "x_mean = np.mean(X)\n",
    "y_mean = np.mean(Y)\n",
    "plt.scatter(X,Y)\n",
    "plt.show()"
   ]
  },
  {
   "cell_type": "markdown",
   "metadata": {},
   "source": [
    "# The same problem can be dealt in 3 methods"
   ]
  },
  {
   "cell_type": "markdown",
   "metadata": {},
   "source": [
    "# Using Gradient Descent\n",
    "**Relation between scores and hours is as follows Scores = W1*Hours+W0**\n",
    "**Using Cost Function J=0.5*(Y-Y_pred)^2**"
   ]
  },
  {
   "cell_type": "code",
   "execution_count": null,
   "metadata": {},
   "outputs": [],
   "source": [
    "W1=0\n",
    "W0=0\n",
    "LR=0.01\n",
    "epochs=1000\n",
    "n = float(len(X))\n",
    "for i in range(epochs):\n",
    "    Y_pred = W1*X+W0\n",
    "    dW1 = (-2/n)*(sum(X*(Y-Y_pred)))\n",
    "    dW0 = (-2/n)*(sum(Y-Y_pred))\n",
    "    W1 = W1 - dW1*LR\n",
    "    W0 = W0 - dW0*LR\n",
    "print(W1,W0)"
   ]
  },
  {
   "cell_type": "markdown",
   "metadata": {},
   "source": [
    "**The equation of line using GD is Scores = 9.7789*Hours+2.4644**"
   ]
  },
  {
   "cell_type": "markdown",
   "metadata": {},
   "source": [
    "# Plotting the regression line "
   ]
  },
  {
   "cell_type": "code",
   "execution_count": null,
   "metadata": {
    "scrolled": true
   },
   "outputs": [],
   "source": [
    "x_gd = np.linspace(1,10,100)\n",
    "score_pred_gd = W1*x_gd+W0\n",
    "plt.plot(x_gd,score_pred_gd,color=\"Red\",label=\"Regression line\")\n",
    "plt.scatter(X,Y,color='Blue',label=\"Points\")\n",
    "plt.xlabel(\"Hours\")\n",
    "plt.ylabel(\"Score\")\n",
    "plt.legend()\n",
    "plt.show()\n",
    "n =(len(X))"
   ]
  },
  {
   "cell_type": "markdown",
   "metadata": {},
   "source": [
    "**Testing the RMSE Error and R^2 fit of line**"
   ]
  },
  {
   "cell_type": "code",
   "execution_count": null,
   "metadata": {},
   "outputs": [],
   "source": [
    "rmse = 0\n",
    "for j in range(n):\n",
    "    y_pred = W0 + W1 * X[j]\n",
    "    rmse += (Y[j] - y_pred) ** 2\n",
    "\n",
    "rmse = np.sqrt(rmse / n)\n",
    "print(rmse)\n",
    "sumofsquares = 0\n",
    "sumofresiduals = 0\n",
    "for i in range(n):\n",
    "    y_pred = W0 + W1 * X[i]\n",
    "    sumofsquares += (Y[i] - y_mean) ** 2\n",
    "    sumofresiduals += (Y[i] - y_pred) ** 2\n",
    "\n",
    "rscore = 1 - (sumofresiduals / sumofsquares)\n",
    "print(rscore)"
   ]
  },
  {
   "cell_type": "markdown",
   "metadata": {},
   "source": [
    "**The Rsquare value we obtained is 0.9529 which is a good fit**"
   ]
  },
  {
   "cell_type": "markdown",
   "metadata": {},
   "source": [
    "# Testing the score for 9.25 hrs of study"
   ]
  },
  {
   "cell_type": "code",
   "execution_count": null,
   "metadata": {},
   "outputs": [],
   "source": [
    "X = 9.25\n",
    "score_predicted = W1*X+W0 \n",
    "print(score_predicted)\n",
    "print(\"The score for studying 9.25hrs is: \"+str(score_predicted))"
   ]
  },
  {
   "cell_type": "markdown",
   "metadata": {},
   "source": [
    "# Conclusion\n",
    "**Predicted score using GD method**\n",
    "**If the student studies for 9.25 hrs he will obtain 92.919**"
   ]
  }
 ],
 "metadata": {
  "kernelspec": {
   "display_name": "Python 3",
   "language": "python",
   "name": "python3"
  },
  "language_info": {
   "codemirror_mode": {
    "name": "ipython",
    "version": 3
   },
   "file_extension": ".py",
   "mimetype": "text/x-python",
   "name": "python",
   "nbconvert_exporter": "python",
   "pygments_lexer": "ipython3",
   "version": "3.8.6"
  }
 },
 "nbformat": 4,
 "nbformat_minor": 4
}
