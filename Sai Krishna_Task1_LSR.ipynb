{
 "cells": [
  {
   "cell_type": "markdown",
   "metadata": {},
   "source": [
    "# Using linear regression formulae\n",
    "**Line equation is y=b1*x+b0**"
   ]
  },
  {
   "cell_type": "code",
   "execution_count": null,
   "metadata": {},
   "outputs": [],
   "source": [
    "import numpy as np\n",
    "import matplotlib.pyplot as plt\n",
    "import pandas as pd"
   ]
  },
  {
   "cell_type": "markdown",
   "metadata": {},
   "source": [
    "**Reading and visualising the data**"
   ]
  },
  {
   "cell_type": "code",
   "execution_count": null,
   "metadata": {
    "scrolled": true
   },
   "outputs": [],
   "source": [
    "data = pd.read_csv(\"https://raw.githubusercontent.com/AdiPersonalWorks/Random/master/student_scores%20-%20student_scores.csv\")\n",
    "print(data.shape)\n",
    "print(data.head())\n",
    "X = data['Hours']\n",
    "Y = data['Scores']\n",
    "x_mean = np.mean(X)\n",
    "y_mean = np.mean(Y)\n",
    "plt.scatter(X,Y)\n",
    "plt.show()"
   ]
  },
  {
   "cell_type": "code",
   "execution_count": null,
   "metadata": {},
   "outputs": [],
   "source": [
    "n = len(X)\n",
    "# using the formula to calculate the b1 and b0\n",
    "numerator = 0\n",
    "denominator = 0\n",
    "for i in range(n):\n",
    "    numerator += (X[i] - x_mean) * (Y[i] - y_mean)\n",
    "    denominator += (X[i] - x_mean) ** 2\n",
    "    \n",
    "b1 = numerator / denominator\n",
    "b0 = y_mean - (b1 * x_mean)\n",
    "#printing the coefficient\n",
    "print(b1, b0)"
   ]
  },
  {
   "cell_type": "markdown",
   "metadata": {},
   "source": [
    "**Equation of line obtained by LSR formulae is scores = 9.775*hours+2.4836**"
   ]
  },
  {
   "cell_type": "markdown",
   "metadata": {},
   "source": [
    "# Plotting Regression Line"
   ]
  },
  {
   "cell_type": "code",
   "execution_count": null,
   "metadata": {},
   "outputs": [],
   "source": [
    "x_lsr = np.linspace(1,10,100)\n",
    "score_pred_lsr = b1*x_lsr+b0\n",
    "plt.plot(x_lsr,score_pred_lsr,color=\"Red\",label=\"Regression line\")\n",
    "plt.scatter(X,Y,color='Blue',label=\"Points\")\n",
    "plt.xlabel(\"Hours\")\n",
    "plt.ylabel(\"Score\")\n",
    "plt.legend()\n",
    "plt.show()\n",
    "n =(len(X))"
   ]
  },
  {
   "cell_type": "markdown",
   "metadata": {},
   "source": [
    "**Testing the RMSE Error and R^2 fit of line**"
   ]
  },
  {
   "cell_type": "code",
   "execution_count": null,
   "metadata": {},
   "outputs": [],
   "source": [
    "rmse = 0\n",
    "for j in range(n):\n",
    "    y_pred = b0 + b1 * X[j]\n",
    "    rmse += (Y[j] - y_pred) ** 2\n",
    "\n",
    "rmse = np.sqrt(rmse / n)\n",
    "print(rmse)\n",
    "sumofsquares = 0\n",
    "sumofresiduals = 0\n",
    "for i in range(n):\n",
    "    y_pred = b0 + b1 * X[i]\n",
    "    sumofsquares += (Y[i] - y_mean) ** 2\n",
    "    sumofresiduals += (Y[i] - y_pred) ** 2\n",
    "\n",
    "rscore = 1 - (sumofresiduals / sumofsquares)\n",
    "print(rscore)"
   ]
  },
  {
   "cell_type": "markdown",
   "metadata": {},
   "source": [
    "**The Rsquare value we obtained is 0.9529 which is a good fit**"
   ]
  },
  {
   "cell_type": "markdown",
   "metadata": {},
   "source": [
    "# Predicting for 9.25 hrs of study"
   ]
  },
  {
   "cell_type": "code",
   "execution_count": null,
   "metadata": {},
   "outputs": [],
   "source": [
    "X = 9.25\n",
    "score_pred = b1*X+b0\n",
    "print(\"The score obtained for studying for 9.25 hrs is :\"+str(score_pred))"
   ]
  }
 ],
 "metadata": {
  "kernelspec": {
   "display_name": "Python 3",
   "language": "python",
   "name": "python3"
  },
  "language_info": {
   "codemirror_mode": {
    "name": "ipython",
    "version": 3
   },
   "file_extension": ".py",
   "mimetype": "text/x-python",
   "name": "python",
   "nbconvert_exporter": "python",
   "pygments_lexer": "ipython3",
   "version": "3.8.6"
  }
 },
 "nbformat": 4,
 "nbformat_minor": 4
}
